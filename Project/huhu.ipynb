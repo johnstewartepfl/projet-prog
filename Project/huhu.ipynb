{
 "cells": [
  {
   "cell_type": "code",
   "execution_count": 9,
   "id": "15b1a819-d613-45bb-b2c0-870dbeb41640",
   "metadata": {},
   "outputs": [
    {
     "name": "stdout",
     "output_type": "stream",
     "text": [
      " Column 1  Column 2  Column 3\n",
      "1         2         3        \n",
      "4         5         6        \n",
      "7         8         9        \n"
     ]
    }
   ],
   "source": [
    "import pandas as pd\n",
    "\n",
    "def create_table(spectral_data):\n",
    "    # Create DataFrame\n",
    "    df = pd.DataFrame(spectral_data, columns=[\"Column 1\", \"Column 2\", \"Column 3\"])\n",
    "    return df\n",
    "\n",
    "# Call the function to create the table\n",
    "table = create_table(spectral_data)\n",
    "\n",
    "# Customize the table format\n",
    "table_str = table.to_string(index=False, justify=\"left\")\n",
    "\n",
    "# Display the table\n",
    "print(table_str)\n",
    "\n",
    "\n"
   ]
  },
  {
   "cell_type": "code",
   "execution_count": null,
   "id": "b246ad83-3f38-413f-9b0a-3f0d77327144",
   "metadata": {},
   "outputs": [],
   "source": []
  },
  {
   "cell_type": "code",
   "execution_count": null,
   "id": "377dbf7a-acb9-4229-8b1d-90a03fc93381",
   "metadata": {},
   "outputs": [],
   "source": []
  }
 ],
 "metadata": {
  "kernelspec": {
   "display_name": "Python 3 (ipykernel)",
   "language": "python",
   "name": "python3"
  },
  "language_info": {
   "codemirror_mode": {
    "name": "ipython",
    "version": 3
   },
   "file_extension": ".py",
   "mimetype": "text/x-python",
   "name": "python",
   "nbconvert_exporter": "python",
   "pygments_lexer": "ipython3",
   "version": "3.10.13"
  }
 },
 "nbformat": 4,
 "nbformat_minor": 5
}
